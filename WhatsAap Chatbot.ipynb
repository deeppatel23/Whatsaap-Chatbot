{
 "cells": [
  {
   "cell_type": "code",
   "execution_count": 4,
   "metadata": {},
   "outputs": [],
   "source": [
    "from selenium import webdriver\n",
    "from selenium.webdriver.support.ui import WebDriverWait\n",
    "from selenium.webdriver.support import expected_conditions as EC\n",
    "from selenium.webdriver.common.keys import Keys\n",
    "from selenium.webdriver.common.by import By\n",
    "import time\n",
    "import sys"
   ]
  },
  {
   "cell_type": "code",
   "execution_count": 5,
   "metadata": {},
   "outputs": [
    {
     "name": "stdout",
     "output_type": "stream",
     "text": [
      "Scan Complete\n"
     ]
    }
   ],
   "source": [
    "options = webdriver.ChromeOptions()\n",
    "options.add_argument('--user-data-dir=/Users/deep/Library/Application Support/Google/Chrome/Default')\n",
    "options.add_argument('--profile-directory=Default')\n",
    "\n",
    "# Register the drive\n",
    "driver = webdriver.Chrome(executable_path='/Users/deep/Desktop/Projects/chromedriver',options=options)  # Change the path as per your local dir.\n",
    "driver.get('https://web.whatsapp.com/')\n",
    "    \n",
    "time.sleep(10)\n",
    "print(\"Scan Complete\")"
   ]
  },
  {
   "cell_type": "code",
   "execution_count": 6,
   "metadata": {},
   "outputs": [],
   "source": [
    "user_name = 'Home'\n",
    "user = driver.find_element_by_xpath('//span[@title=\"{}\"]'.format(user_name))\n",
    "user.click()"
   ]
  },
  {
   "cell_type": "code",
   "execution_count": 7,
   "metadata": {},
   "outputs": [],
   "source": [
    "def weather(city):\n",
    "    reply = \" \"\n",
    "    import requests\n",
    "    from pprint import pprint\n",
    "    def weather_data(query):\n",
    "        res=requests.get('http://api.openweathermap.org/data/2.5/weather?'+query+'&APPID=b35975e18dc93725acb092f7272cc6b8&units=metric');\n",
    "        return res.json();\n",
    "    def print_weather(result,city):\n",
    "        reply = ((\"{}'s temperature: {}°C \".format(city,result['main']['temp'])) + (\"\\nWind speed: {} m/s\".format(result['wind']['speed'])) + (\"\\nDescription: {}\".format(result['weather'][0]['description'])) + (\"\\nWeather: {}\".format(result['weather'][0]['main'])) + (\"\\nHope, you like my service.\"))\n",
    "        return(reply)\n",
    "    def main():\n",
    "        #city=input('Enter the city:')\n",
    "        try:\n",
    "          query='q='+city;\n",
    "          w_data=weather_data(query);\n",
    "          reply = print_weather(w_data, city)\n",
    "          #print(reply)\n",
    "        except:\n",
    "          reply = 'City name not found...'\n",
    "        return (reply)\n",
    "    reply = main()\n",
    "    return (reply)"
   ]
  },
  {
   "cell_type": "code",
   "execution_count": 8,
   "metadata": {},
   "outputs": [],
   "source": [
    "def SendMessage(q):\n",
    "    time.sleep(5)\n",
    "    inp_xpath = '//*[@id=\"main\"]/footer/div[1]/div[2]/div/div[2]'\n",
    "    input_box = driver.find_element_by_xpath(inp_xpath)\n",
    "    time.sleep(2)\n",
    "    input_box.send_keys(q + Keys.ENTER)\n",
    "    time.sleep(2)"
   ]
  },
  {
   "cell_type": "code",
   "execution_count": 9,
   "metadata": {},
   "outputs": [],
   "source": [
    "def ReplyPreviousMessage():\n",
    "    msg_got = driver.find_elements_by_css_selector(\"span.selectable-text.invisible-space.copyable-text\")\n",
    "    msg = [message.text for message in msg_got]\n",
    "    \n",
    "    \n",
    "    if (msg[-1].lower() == \"hey\" or msg[-1].lower() ==  \"hello\" or msg[-1].lower() ==  \"hii\" or msg[-1].lower() == \"hi\" or msg[-1].lower() == \"hello!\"):\n",
    "        q = \"Hello!!\"\n",
    "        SendMessage(q)\n",
    "\n",
    "    elif (msg[-1].lower() == \"what are you doing?\" or msg[-1].lower() == \"what r u doing\" or msg[-1].lower() == \"what you do\" or msg[-1].lower() == \"what are you doing?\"):\n",
    "        q = 'Exploring the automation. Tell me, How can I help you.'\n",
    "        SendMessage(q)\n",
    "        \n",
    "    elif (msg[-1].lower() == \"how are you\" or msg[-1].lower() == \"how r u\" or msg[-1].lower() == \"are you fine\" or msg[-1].lower() == \"how are you?\"):\n",
    "        q = 'I am fine. What about you?'\n",
    "        SendMessage(q)\n",
    "        \n",
    "    elif (msg[-1].lower() == \"i am also fine\" or msg[-1].lower() == \"fine\" or msg[-1].lower() == \"good\" or msg[-1].lower() == \"i am fine\"):\n",
    "        q = \"That's Great!\"\n",
    "        SendMessage(q)\n",
    "        \n",
    "    elif (msg[-1].lower() == \"what can you do for me\" or msg[-1].lower() == \"how can you help me\" or msg[-1].lower() == \"what can u do for me\" or msg[-1].lower() == \"what can you do\"):\n",
    "        q = '1. Check current Weather\\n2.Tell a joke\\nSelect the task Weather/Jokes to perform.'\n",
    "        SendMessage(q)\n",
    "        \n",
    "    elif (msg[-1].lower() == 2 or msg[-1].lower() ==  \"jokes\" or msg[-1].lower() ==  \"tell me joke\" or msg[-1].lower() == \"tell me a joke\"):\n",
    "        q = \"Question: Which is longest word in English language?\\nAnswer: SMILE, because there is a mile between it's first and last letter.\"\n",
    "        SendMessage(q)\n",
    "        \n",
    "    elif (msg[-1].lower() == \"i need to talk to you\" or msg[-1].lower() == \"i need your help\" or msg[-1].lower() == \"are you free\" or msg[-1].lower() == \"can we talk\" ):\n",
    "        q = 'Okay! My master will text you back, when he is free.'\n",
    "        SendMessage(q)\n",
    "        \n",
    "    elif (msg[-1].lower() == \"bye\" or msg[-1].lower() == \"by\" or msg[-1].lower() == \"byee\" or msg[-1].lower() == \"see ya\"):\n",
    "        time.sleep(5)\n",
    "        q = \"Bye SeeYa..!\"\n",
    "        SendMessage(q)\n",
    "        driver.close()\n",
    "        exit()\n",
    "        \n",
    "    elif (msg[-1].lower() == \"what's the weather today\" or msg[-1].lower() == \"tell me about weather\" or msg[-1].lower() == \"what weather outside\" or msg[-1].lower() == \"check my weather\" or msg[-1].lower() == \"weather\" or msg[-1].lower() == 1 ):\n",
    "        q = 'Enter the City name :'\n",
    "        SendMessage(q)\n",
    "        \n",
    "        time.sleep(15)\n",
    "        \n",
    "        msg_got = driver.find_elements_by_css_selector(\"span.selectable-text.invisible-space.copyable-text\")\n",
    "        msg = [message.text for message in msg_got]\n",
    "        \n",
    "        if msg[-1] == 'Enter the City name :':\n",
    "            q = \"Please enter the City name : \"\n",
    "            SendMessage(q)\n",
    "        else :\n",
    "            q = weather(str(msg[-1]))\n",
    "            SendMessage(q)\n",
    "        \n",
    "    elif (msg[-1].lower() == \"yes\" or msg[-1].lower() == \"of corse\" or msg[-1].lower() == \"yah\" or msg[-1].lower() == \"yes i liked it\" or msg[-1].lower() == \"yes i liked\"):\n",
    "        q = \"Thank you!\"\n",
    "        SendMessage(q)\n",
    "        \n",
    "    elif (msg[-1].lower() == \"ok\" or msg[-1].lower() == \"ohk\" or msg[-1].lower() == \"okk\" or msg[-1].lower() == \"okay\"):\n",
    "        q = \"Yes!\"\n",
    "        SendMessage(q)\n",
    "            \n",
    "        \n",
    "    else :\n",
    "        q = 'Hey, I am your whatsapp bot and I only understand proper English.'\n",
    "        SendMessage(q)\n",
    "    print(\"Chatbot reply    : \" + str(q))\n",
    "    return(q)"
   ]
  },
  {
   "cell_type": "code",
   "execution_count": 10,
   "metadata": {},
   "outputs": [
    {
     "name": "stdout",
     "output_type": "stream",
     "text": [
      "Message received : Hi\n",
      "Chatbot reply    : Hello!!\n",
      "Message received : How are you\n",
      "Chatbot reply    : I am fine. What about you?\n",
      "Message received : Good\n",
      "Chatbot reply    : That's Great!\n",
      "Message received : What can you do for me\n",
      "Chatbot reply    : 1. Check current Weather\n",
      "2.Tell a joke\n",
      "Select the task Weather/Jokes to perform.\n",
      "Message received : Weather\n",
      "Chatbot reply    : Navsari's temperature: 29°C \n",
      "Wind speed: 2.6 m/s\n",
      "Description: scattered clouds\n",
      "Weather: Clouds\n",
      "Hope, you like my service.\n",
      "Message received : Yes\n",
      "Chatbot reply    : Thank you!\n",
      "Message received : I need your help\n",
      "Chatbot reply    : Okay! My master will text you back, when he is free.\n",
      "Message received : Ok\n",
      "Chatbot reply    : Yes!\n",
      "Message received : By\n",
      "Chatbot reply    : Bye SeeYa..!\n"
     ]
    },
    {
     "ename": "InvalidSessionIdException",
     "evalue": "Message: invalid session id\n",
     "output_type": "error",
     "traceback": [
      "\u001b[0;31m---------------------------------------------------------------------------\u001b[0m",
      "\u001b[0;31mInvalidSessionIdException\u001b[0m                 Traceback (most recent call last)",
      "\u001b[0;32m<ipython-input-10-ebaef88845f4>\u001b[0m in \u001b[0;36m<module>\u001b[0;34m\u001b[0m\n\u001b[1;32m      2\u001b[0m \u001b[0mcount\u001b[0m \u001b[0;34m=\u001b[0m \u001b[0;36m0\u001b[0m\u001b[0;34m\u001b[0m\u001b[0;34m\u001b[0m\u001b[0m\n\u001b[1;32m      3\u001b[0m \u001b[0;32mwhile\u001b[0m \u001b[0;36m1\u001b[0m\u001b[0;34m:\u001b[0m\u001b[0;34m\u001b[0m\u001b[0;34m\u001b[0m\u001b[0m\n\u001b[0;32m----> 4\u001b[0;31m     \u001b[0mmsg_got\u001b[0m \u001b[0;34m=\u001b[0m \u001b[0mdriver\u001b[0m\u001b[0;34m.\u001b[0m\u001b[0mfind_elements_by_css_selector\u001b[0m\u001b[0;34m(\u001b[0m\u001b[0;34m\"span.selectable-text.invisible-space.copyable-text\"\u001b[0m\u001b[0;34m)\u001b[0m\u001b[0;34m\u001b[0m\u001b[0;34m\u001b[0m\u001b[0m\n\u001b[0m\u001b[1;32m      5\u001b[0m     \u001b[0mmsg\u001b[0m \u001b[0;34m=\u001b[0m \u001b[0;34m[\u001b[0m\u001b[0mmessage\u001b[0m\u001b[0;34m.\u001b[0m\u001b[0mtext\u001b[0m \u001b[0;32mfor\u001b[0m \u001b[0mmessage\u001b[0m \u001b[0;32min\u001b[0m \u001b[0mmsg_got\u001b[0m\u001b[0;34m]\u001b[0m\u001b[0;34m\u001b[0m\u001b[0;34m\u001b[0m\u001b[0m\n\u001b[1;32m      6\u001b[0m \u001b[0;34m\u001b[0m\u001b[0m\n",
      "\u001b[0;32m~/miniconda3/lib/python3.7/site-packages/selenium/webdriver/remote/webdriver.py\u001b[0m in \u001b[0;36mfind_elements_by_css_selector\u001b[0;34m(self, css_selector)\u001b[0m\n\u001b[1;32m    612\u001b[0m             \u001b[0melements\u001b[0m \u001b[0;34m=\u001b[0m \u001b[0mdriver\u001b[0m\u001b[0;34m.\u001b[0m\u001b[0mfind_elements_by_css_selector\u001b[0m\u001b[0;34m(\u001b[0m\u001b[0;34m'.foo'\u001b[0m\u001b[0;34m)\u001b[0m\u001b[0;34m\u001b[0m\u001b[0;34m\u001b[0m\u001b[0m\n\u001b[1;32m    613\u001b[0m         \"\"\"\n\u001b[0;32m--> 614\u001b[0;31m         \u001b[0;32mreturn\u001b[0m \u001b[0mself\u001b[0m\u001b[0;34m.\u001b[0m\u001b[0mfind_elements\u001b[0m\u001b[0;34m(\u001b[0m\u001b[0mby\u001b[0m\u001b[0;34m=\u001b[0m\u001b[0mBy\u001b[0m\u001b[0;34m.\u001b[0m\u001b[0mCSS_SELECTOR\u001b[0m\u001b[0;34m,\u001b[0m \u001b[0mvalue\u001b[0m\u001b[0;34m=\u001b[0m\u001b[0mcss_selector\u001b[0m\u001b[0;34m)\u001b[0m\u001b[0;34m\u001b[0m\u001b[0;34m\u001b[0m\u001b[0m\n\u001b[0m\u001b[1;32m    615\u001b[0m \u001b[0;34m\u001b[0m\u001b[0m\n\u001b[1;32m    616\u001b[0m     \u001b[0;32mdef\u001b[0m \u001b[0mexecute_script\u001b[0m\u001b[0;34m(\u001b[0m\u001b[0mself\u001b[0m\u001b[0;34m,\u001b[0m \u001b[0mscript\u001b[0m\u001b[0;34m,\u001b[0m \u001b[0;34m*\u001b[0m\u001b[0margs\u001b[0m\u001b[0;34m)\u001b[0m\u001b[0;34m:\u001b[0m\u001b[0;34m\u001b[0m\u001b[0;34m\u001b[0m\u001b[0m\n",
      "\u001b[0;32m~/miniconda3/lib/python3.7/site-packages/selenium/webdriver/remote/webdriver.py\u001b[0m in \u001b[0;36mfind_elements\u001b[0;34m(self, by, value)\u001b[0m\n\u001b[1;32m   1005\u001b[0m         return self.execute(Command.FIND_ELEMENTS, {\n\u001b[1;32m   1006\u001b[0m             \u001b[0;34m'using'\u001b[0m\u001b[0;34m:\u001b[0m \u001b[0mby\u001b[0m\u001b[0;34m,\u001b[0m\u001b[0;34m\u001b[0m\u001b[0;34m\u001b[0m\u001b[0m\n\u001b[0;32m-> 1007\u001b[0;31m             'value': value})['value'] or []\n\u001b[0m\u001b[1;32m   1008\u001b[0m \u001b[0;34m\u001b[0m\u001b[0m\n\u001b[1;32m   1009\u001b[0m     \u001b[0;34m@\u001b[0m\u001b[0mproperty\u001b[0m\u001b[0;34m\u001b[0m\u001b[0;34m\u001b[0m\u001b[0m\n",
      "\u001b[0;32m~/miniconda3/lib/python3.7/site-packages/selenium/webdriver/remote/webdriver.py\u001b[0m in \u001b[0;36mexecute\u001b[0;34m(self, driver_command, params)\u001b[0m\n\u001b[1;32m    319\u001b[0m         \u001b[0mresponse\u001b[0m \u001b[0;34m=\u001b[0m \u001b[0mself\u001b[0m\u001b[0;34m.\u001b[0m\u001b[0mcommand_executor\u001b[0m\u001b[0;34m.\u001b[0m\u001b[0mexecute\u001b[0m\u001b[0;34m(\u001b[0m\u001b[0mdriver_command\u001b[0m\u001b[0;34m,\u001b[0m \u001b[0mparams\u001b[0m\u001b[0;34m)\u001b[0m\u001b[0;34m\u001b[0m\u001b[0;34m\u001b[0m\u001b[0m\n\u001b[1;32m    320\u001b[0m         \u001b[0;32mif\u001b[0m \u001b[0mresponse\u001b[0m\u001b[0;34m:\u001b[0m\u001b[0;34m\u001b[0m\u001b[0;34m\u001b[0m\u001b[0m\n\u001b[0;32m--> 321\u001b[0;31m             \u001b[0mself\u001b[0m\u001b[0;34m.\u001b[0m\u001b[0merror_handler\u001b[0m\u001b[0;34m.\u001b[0m\u001b[0mcheck_response\u001b[0m\u001b[0;34m(\u001b[0m\u001b[0mresponse\u001b[0m\u001b[0;34m)\u001b[0m\u001b[0;34m\u001b[0m\u001b[0;34m\u001b[0m\u001b[0m\n\u001b[0m\u001b[1;32m    322\u001b[0m             response['value'] = self._unwrap_value(\n\u001b[1;32m    323\u001b[0m                 response.get('value', None))\n",
      "\u001b[0;32m~/miniconda3/lib/python3.7/site-packages/selenium/webdriver/remote/errorhandler.py\u001b[0m in \u001b[0;36mcheck_response\u001b[0;34m(self, response)\u001b[0m\n\u001b[1;32m    240\u001b[0m                 \u001b[0malert_text\u001b[0m \u001b[0;34m=\u001b[0m \u001b[0mvalue\u001b[0m\u001b[0;34m[\u001b[0m\u001b[0;34m'alert'\u001b[0m\u001b[0;34m]\u001b[0m\u001b[0;34m.\u001b[0m\u001b[0mget\u001b[0m\u001b[0;34m(\u001b[0m\u001b[0;34m'text'\u001b[0m\u001b[0;34m)\u001b[0m\u001b[0;34m\u001b[0m\u001b[0;34m\u001b[0m\u001b[0m\n\u001b[1;32m    241\u001b[0m             \u001b[0;32mraise\u001b[0m \u001b[0mexception_class\u001b[0m\u001b[0;34m(\u001b[0m\u001b[0mmessage\u001b[0m\u001b[0;34m,\u001b[0m \u001b[0mscreen\u001b[0m\u001b[0;34m,\u001b[0m \u001b[0mstacktrace\u001b[0m\u001b[0;34m,\u001b[0m \u001b[0malert_text\u001b[0m\u001b[0;34m)\u001b[0m\u001b[0;34m\u001b[0m\u001b[0;34m\u001b[0m\u001b[0m\n\u001b[0;32m--> 242\u001b[0;31m         \u001b[0;32mraise\u001b[0m \u001b[0mexception_class\u001b[0m\u001b[0;34m(\u001b[0m\u001b[0mmessage\u001b[0m\u001b[0;34m,\u001b[0m \u001b[0mscreen\u001b[0m\u001b[0;34m,\u001b[0m \u001b[0mstacktrace\u001b[0m\u001b[0;34m)\u001b[0m\u001b[0;34m\u001b[0m\u001b[0;34m\u001b[0m\u001b[0m\n\u001b[0m\u001b[1;32m    243\u001b[0m \u001b[0;34m\u001b[0m\u001b[0m\n\u001b[1;32m    244\u001b[0m     \u001b[0;32mdef\u001b[0m \u001b[0m_value_or_default\u001b[0m\u001b[0;34m(\u001b[0m\u001b[0mself\u001b[0m\u001b[0;34m,\u001b[0m \u001b[0mobj\u001b[0m\u001b[0;34m,\u001b[0m \u001b[0mkey\u001b[0m\u001b[0;34m,\u001b[0m \u001b[0mdefault\u001b[0m\u001b[0;34m)\u001b[0m\u001b[0;34m:\u001b[0m\u001b[0;34m\u001b[0m\u001b[0;34m\u001b[0m\u001b[0m\n",
      "\u001b[0;31mInvalidSessionIdException\u001b[0m: Message: invalid session id\n"
     ]
    }
   ],
   "source": [
    "p = 'sgwr323rfw'\n",
    "count = 0\n",
    "while 1:\n",
    "    msg_got = driver.find_elements_by_css_selector(\"span.selectable-text.invisible-space.copyable-text\")\n",
    "    msg = [message.text for message in msg_got]\n",
    "    \n",
    "    if (msg[-1] == \"Answer: SMILE, because there is a mile between it's first and last letter.\" or msg[-1] == \"Hope, you like my service.\" or msg[-1] == \"Select the task Weather/Jokes to perform.\" or msg[-1] == \"Exploring the automation. Tell me, How can I help you\" or msg[-1] == \"Thank you!\" or msg[-1] == \"Okay! My master will text you back, when he is free.\" or msg[-1] == \"That's Great!\" or msg[-1] == \"I am fine. What about you?\" or msg[-1] == \"Hello!!\" or msg[-1] == \"Bye SeeYa..!\" or msg[-1] == \"Yes!\"):\n",
    "        time.sleep(3)\n",
    "    else:\n",
    "    \n",
    "        if msg[-1] == p:\n",
    "            if p == 'Hey, I am your whatsapp bot and I only understand English.':\n",
    "                count+=1\n",
    "\n",
    "                if count == 3:\n",
    "                    SendMessage(q)\n",
    "                    time.sleep(2)\n",
    "                    driver.close()\n",
    "                    exit()\n",
    "\n",
    "            time.sleep(2)\n",
    "            continue\n",
    "        else:\n",
    "            try:\n",
    "                count = 0\n",
    "                print(\"Message received : \" + str(msg[-1]))\n",
    "                p = ReplyPreviousMessage()\n",
    "            except NoSuchElementException or InvalidSessionIdException:\n",
    "                driver.close()\n",
    "    "
   ]
  },
  {
   "cell_type": "code",
   "execution_count": null,
   "metadata": {},
   "outputs": [],
   "source": []
  }
 ],
 "metadata": {
  "kernelspec": {
   "display_name": "Python 3",
   "language": "python",
   "name": "python3"
  },
  "language_info": {
   "codemirror_mode": {
    "name": "ipython",
    "version": 3
   },
   "file_extension": ".py",
   "mimetype": "text/x-python",
   "name": "python",
   "nbconvert_exporter": "python",
   "pygments_lexer": "ipython3",
   "version": "3.7.7"
  }
 },
 "nbformat": 4,
 "nbformat_minor": 4
}
